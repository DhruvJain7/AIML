{
 "cells": [
  {
   "cell_type": "code",
   "execution_count": 1,
   "id": "207764ba-29f4-48e2-945e-82fea3ce25d1",
   "metadata": {},
   "outputs": [],
   "source": [
    "import pandas as pd\n",
    "import numpy as np"
   ]
  },
  {
   "cell_type": "markdown",
   "id": "635d55c4-6fdb-4dc4-8033-4062424573cf",
   "metadata": {},
   "source": [
    "## First,let's construct a small corpus"
   ]
  },
  {
   "cell_type": "code",
   "execution_count": 2,
   "id": "52099e1b-2017-4fb8-b822-8ecbc9df7ef9",
   "metadata": {},
   "outputs": [],
   "source": [
    "corpus=['data science is one of the most important fields of science',\n",
    "       'this is one of the best data science courses',\n",
    "       'data scientists analyze data']"
   ]
  },
  {
   "cell_type": "code",
   "execution_count": 5,
   "id": "d2608ac5-3bed-4b69-8162-b4d4428f9edb",
   "metadata": {},
   "outputs": [
    {
     "name": "stdout",
     "output_type": "stream",
     "text": [
      "Number of words in the corpus : 14\n",
      "the words in the corpus : \n",
      " {'best', 'the', 'courses', 'is', 'this', 'one', 'analyze', 'science', 'of', 'important', 'fields', 'data', 'most', 'scientists'}\n"
     ]
    }
   ],
   "source": [
    "words_set = set()\n",
    "\n",
    "for doc in corpus:\n",
    "    words = doc.split(' ')\n",
    "    words_set = words_set.union(set(words))\n",
    "\n",
    "print('Number of words in the corpus :', len(words_set))\n",
    "print('the words in the corpus : \\n',words_set)\n",
    "    "
   ]
  },
  {
   "cell_type": "code",
   "execution_count": 10,
   "id": "9eeb8ea0-c72c-4eab-9f54-989d74eef20e",
   "metadata": {},
   "outputs": [
    {
     "name": "stderr",
     "output_type": "stream",
     "text": [
      "C:\\Users\\djdhr\\AppData\\Local\\Temp\\ipykernel_9384\\4184476575.py:9: FutureWarning: ChainedAssignmentError: behaviour will change in pandas 3.0!\n",
      "You are setting values through chained assignment. Currently this works in certain cases, but when using Copy-on-Write (which will become the default behaviour in pandas 3.0) this will never work to update the original DataFrame or Series, because the intermediate object on which we are setting values will behave as a copy.\n",
      "A typical example is when you are setting values in a column of a DataFrame, like:\n",
      "\n",
      "df[\"col\"][row_indexer] = value\n",
      "\n",
      "Use `df.loc[row_indexer, \"col\"] = values` instead, to perform the assignment in a single step and ensure this keeps updating the original `df`.\n",
      "\n",
      "See the caveats in the documentation: https://pandas.pydata.org/pandas-docs/stable/user_guide/indexing.html#returning-a-view-versus-a-copy\n",
      "\n",
      "  df_tf[w][i]=df_tf[w][i]+(1/len(words))\n"
     ]
    },
    {
     "data": {
      "text/html": [
       "<div>\n",
       "<style scoped>\n",
       "    .dataframe tbody tr th:only-of-type {\n",
       "        vertical-align: middle;\n",
       "    }\n",
       "\n",
       "    .dataframe tbody tr th {\n",
       "        vertical-align: top;\n",
       "    }\n",
       "\n",
       "    .dataframe thead th {\n",
       "        text-align: right;\n",
       "    }\n",
       "</style>\n",
       "<table border=\"1\" class=\"dataframe\">\n",
       "  <thead>\n",
       "    <tr style=\"text-align: right;\">\n",
       "      <th></th>\n",
       "      <th>best</th>\n",
       "      <th>the</th>\n",
       "      <th>courses</th>\n",
       "      <th>is</th>\n",
       "      <th>this</th>\n",
       "      <th>one</th>\n",
       "      <th>analyze</th>\n",
       "      <th>science</th>\n",
       "      <th>of</th>\n",
       "      <th>important</th>\n",
       "      <th>fields</th>\n",
       "      <th>data</th>\n",
       "      <th>most</th>\n",
       "      <th>scientists</th>\n",
       "    </tr>\n",
       "  </thead>\n",
       "  <tbody>\n",
       "    <tr>\n",
       "      <th>0</th>\n",
       "      <td>0.000000</td>\n",
       "      <td>0.090909</td>\n",
       "      <td>0.000000</td>\n",
       "      <td>0.090909</td>\n",
       "      <td>0.000000</td>\n",
       "      <td>0.090909</td>\n",
       "      <td>0.00</td>\n",
       "      <td>0.181818</td>\n",
       "      <td>0.181818</td>\n",
       "      <td>0.090909</td>\n",
       "      <td>0.090909</td>\n",
       "      <td>0.090909</td>\n",
       "      <td>0.090909</td>\n",
       "      <td>0.00</td>\n",
       "    </tr>\n",
       "    <tr>\n",
       "      <th>1</th>\n",
       "      <td>0.111111</td>\n",
       "      <td>0.111111</td>\n",
       "      <td>0.111111</td>\n",
       "      <td>0.111111</td>\n",
       "      <td>0.111111</td>\n",
       "      <td>0.111111</td>\n",
       "      <td>0.00</td>\n",
       "      <td>0.111111</td>\n",
       "      <td>0.111111</td>\n",
       "      <td>0.000000</td>\n",
       "      <td>0.000000</td>\n",
       "      <td>0.111111</td>\n",
       "      <td>0.000000</td>\n",
       "      <td>0.00</td>\n",
       "    </tr>\n",
       "    <tr>\n",
       "      <th>2</th>\n",
       "      <td>0.000000</td>\n",
       "      <td>0.000000</td>\n",
       "      <td>0.000000</td>\n",
       "      <td>0.000000</td>\n",
       "      <td>0.000000</td>\n",
       "      <td>0.000000</td>\n",
       "      <td>0.25</td>\n",
       "      <td>0.000000</td>\n",
       "      <td>0.000000</td>\n",
       "      <td>0.000000</td>\n",
       "      <td>0.000000</td>\n",
       "      <td>0.500000</td>\n",
       "      <td>0.000000</td>\n",
       "      <td>0.25</td>\n",
       "    </tr>\n",
       "  </tbody>\n",
       "</table>\n",
       "</div>"
      ],
      "text/plain": [
       "       best       the   courses        is      this       one  analyze  \\\n",
       "0  0.000000  0.090909  0.000000  0.090909  0.000000  0.090909     0.00   \n",
       "1  0.111111  0.111111  0.111111  0.111111  0.111111  0.111111     0.00   \n",
       "2  0.000000  0.000000  0.000000  0.000000  0.000000  0.000000     0.25   \n",
       "\n",
       "    science        of  important    fields      data      most  scientists  \n",
       "0  0.181818  0.181818   0.090909  0.090909  0.090909  0.090909        0.00  \n",
       "1  0.111111  0.111111   0.000000  0.000000  0.111111  0.000000        0.00  \n",
       "2  0.000000  0.000000   0.000000  0.000000  0.500000  0.000000        0.25  "
      ]
     },
     "execution_count": 10,
     "metadata": {},
     "output_type": "execute_result"
    }
   ],
   "source": [
    "noOfDocuments = len(corpus)\n",
    "noOfWordSet = len(words_set)\n",
    "\n",
    "df_tf = pd.DataFrame(np.zeros((noOfDocuments,noOfWordSet)), columns = list(words_set))\n",
    "\n",
    "for i in range(noOfDocuments):\n",
    "    words= corpus[i].split(' ')\n",
    "    for w in words:\n",
    "        df_tf[w][i]=df_tf[w][i]+(1/len(words))\n",
    "\n",
    "df_tf"
   ]
  },
  {
   "cell_type": "code",
   "execution_count": null,
   "id": "59ee7a52-81f3-4bac-8905-4c3691223621",
   "metadata": {},
   "outputs": [],
   "source": []
  }
 ],
 "metadata": {
  "kernelspec": {
   "display_name": "Python 3 (ipykernel)",
   "language": "python",
   "name": "python3"
  },
  "language_info": {
   "codemirror_mode": {
    "name": "ipython",
    "version": 3
   },
   "file_extension": ".py",
   "mimetype": "text/x-python",
   "name": "python",
   "nbconvert_exporter": "python",
   "pygments_lexer": "ipython3",
   "version": "3.12.3"
  }
 },
 "nbformat": 4,
 "nbformat_minor": 5
}
